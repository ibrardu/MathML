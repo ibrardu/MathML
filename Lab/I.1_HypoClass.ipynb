{
 "cells": [
  {
   "cell_type": "code",
   "execution_count": 2,
   "id": "fda02c12-6b7c-4cbf-b3b6-430e4fdd389e",
   "metadata": {},
   "outputs": [],
   "source": [
    "import jax \n",
    "import jax.numpy as jnp \n",
    "import flax.linen as nn \n",
    "import matplotlib.pyplot as plt\n",
    "from sklearn.preprocessing import PolynomialFeatures\n",
    "from sklearn.model_selection import train_test_split\n",
    "import optax\n",
    "from sklearn.metrics import mean_squared_error as mse\n",
    "import numpy as np\n",
    "from sklearn import preprocessing"
   ]
  },
  {
   "cell_type": "code",
   "execution_count": 61,
   "id": "4bebc967-ea8a-4d20-82cb-c31b2b1ae02d",
   "metadata": {},
   "outputs": [
    {
     "data": {
      "image/png": "[encoded data removed]",
      "text/plain": [
       "<Figure size 432x288 with 1 Axes>"
      ]
     },
     "metadata": {
      "needs_background": "light"
     },
     "output_type": "display_data"
    }
   ],
   "source": [
    "# function to approximate \n",
    "def f(x):\n",
    "    return jnp.cos(5*jnp.prod(x, axis=1))*jnp.exp(-x[:,0])\n",
    "\n",
    "# example in one dimension\n",
    "x = jnp.linspace(-1,1,10).reshape(-1,1)\n",
    "y = f(x)\n",
    "plt.scatter(x, y)\n",
    "plt.xlabel(\"x\")\n",
    "plt.ylabel(\"y\")\n",
    "plt.show()"
   ]
  },
  {
   "cell_type": "code",
   "execution_count": 62,
   "id": "d9a53b7c-3f2d-4543-b79d-873d3ad58b6d",
   "metadata": {},
   "outputs": [],
   "source": [
    "class Regression(nn.Module):\n",
    "    num_features: int\n",
    "    \n",
    "    def setup(self):\n",
    "        self.w = self.param('weights', jax.nn.initializers.glorot_uniform(),\n",
    "                                (self.num_features,1))\n",
    "        self.shift = self.param('bias', jax.nn.initializers.glorot_uniform(),\n",
    "                                (1,1))\n",
    "    @nn.compact\n",
    "    def __call__(self, x):\n",
    "        out = jnp.sum(x*self.w[:,0], axis=1)\n",
    "        return out + self.shift\n",
    "# initializing the optimizer\n",
    "learning_rate = 1e-3\n",
    "optx = optax.adam(learning_rate=learning_rate)\n",
    "# A function to generate polynomial features - equivalent to fitting using a polynomial \n",
    "def generate_poly(deg_poly, x):\n",
    "    poly = PolynomialFeatures(deg_poly)\n",
    "    return poly.fit_transform(x)\n"
   ]
  },
  {
   "cell_type": "markdown",
   "id": "e8a468aa-d570-4492-ab8f-fc8deed40bc9",
   "metadata": {},
   "source": [
    "## Fitting using a affine mappings"
   ]
  },
  {
   "cell_type": "code",
   "execution_count": 63,
   "id": "6ab7ee2f-1bea-4479-9641-7c2d0b674fc0",
   "metadata": {},
   "outputs": [
    {
     "name": "stdout",
     "output_type": "stream",
     "text": [
      "(6, 1) (6,)\n",
      "epoch: 0, loss function: 1.539198875427246\n",
      "epoch: 100, loss function: 1.425779104232788\n",
      "epoch: 200, loss function: 1.328757643699646\n",
      "epoch: 300, loss function: 1.2408711910247803\n",
      "epoch: 400, loss function: 1.160628318786621\n",
      "epoch: 500, loss function: 1.0874536037445068\n",
      "epoch: 600, loss function: 1.0208797454833984\n",
      "epoch: 700, loss function: 0.9604816436767578\n",
      "epoch: 800, loss function: 0.9058610796928406\n",
      "epoch: 900, loss function: 0.8566404581069946\n",
      "epoch: 1000, loss function: 0.8124579191207886\n",
      "epoch: 1100, loss function: 0.7729659080505371\n",
      "epoch: 1200, loss function: 0.7378293871879578\n",
      "epoch: 1300, loss function: 0.7067245841026306\n",
      "epoch: 1400, loss function: 0.6793385744094849\n",
      "epoch: 1500, loss function: 0.6553689241409302\n",
      "epoch: 1600, loss function: 0.6345236301422119\n",
      "epoch: 1700, loss function: 0.6165207624435425\n",
      "epoch: 1800, loss function: 0.6010894775390625\n",
      "epoch: 1900, loss function: 0.5879690647125244\n"
     ]
    }
   ],
   "source": [
    "x_train, x_test, y_train, y_test = train_test_split(x, y, test_size=0.33, random_state=42)\n",
    "print(x_train.shape, y_train.shape)\n",
    "# initialize the neural network \n",
    "model = Regression(1)\n",
    "params = model.init(jax.random.PRNGKey(0), x_test)\n",
    "opt_state = optx.init(params)\n",
    "\n",
    "# define the loss function \n",
    "@jax.jit\n",
    "def MSE(params, x, y_true):\n",
    "    y_pred = model.apply(params, x)\n",
    "    return jnp.mean((y_pred-y_true)**2)\n",
    "\n",
    "loss_fn = MSE\n",
    "loss_grad_fn = jax.value_and_grad(MSE) # a function to evaluate the function and its gradient)\n",
    "\n",
    "# training loop\n",
    "n_epochs = 2000 #number of training epochs \n",
    "for e in range(n_epochs):\n",
    "    loss_val, grad = loss_grad_fn(params, x_train, y_train)\n",
    "    updates, opt_state = optx.update(grad, opt_state)\n",
    "    params = optax.apply_updates(params, updates)\n",
    "    if e % 100 == 0:\n",
    "        print(f\"epoch: {e}, loss function: {loss_val}\")"
   ]
  },
  {
   "cell_type": "markdown",
   "id": "12e61faf-3a3d-4abb-9edc-954241271303",
   "metadata": {},
   "source": [
    "Plot the learned function."
   ]
  },
  {
   "cell_type": "code",
   "execution_count": 64,
   "id": "cbca75e5-2ec6-4584-b5ba-195279d6fdcf",
   "metadata": {},
   "outputs": [
    {
     "data": {
      "image/png": "[encoded data removed]",
      "text/plain": [
       "<Figure size 432x288 with 1 Axes>"
      ]
     },
     "metadata": {
      "needs_background": "light"
     },
     "output_type": "display_data"
    }
   ],
   "source": [
    "plt.scatter(x_train[:,0], y_train, label=\"Training examples\")\n",
    "plt.xlabel(\"x\")\n",
    "plt.ylabel(\"y\")\n",
    "params_linear = params\n",
    "ypred_train = model.apply(params_linear, x_train)\n",
    "plt.plot(x_train, ypred_train.T, color='r', label=\"Learned function: affine\")\n",
    "plt.legend()\n",
    "plt.show()"
   ]
  },
  {
   "cell_type": "markdown",
   "id": "6352a57e-0e56-47b1-b514-2249afd66b2f",
   "metadata": {},
   "source": [
    "Evaluate the training error. What do you deduce?"
   ]
  },
  {
   "cell_type": "code",
   "execution_count": 65,
   "id": "497b3640-7462-47fd-b1cd-c5e5e5dde919",
   "metadata": {},
   "outputs": [
    {
     "name": "stdout",
     "output_type": "stream",
     "text": [
      "epoch: 0, loss function: 1.2124347686767578\n",
      "epoch: 100, loss function: 0.4950806498527527\n",
      "epoch: 200, loss function: 0.43223485350608826\n",
      "epoch: 300, loss function: 0.3791384696960449\n",
      "epoch: 400, loss function: 0.33435624837875366\n",
      "epoch: 500, loss function: 0.2959642708301544\n",
      "epoch: 600, loss function: 0.2623980641365051\n",
      "epoch: 700, loss function: 0.23262916505336761\n",
      "epoch: 800, loss function: 0.20605841279029846\n",
      "epoch: 900, loss function: 0.1823381781578064\n",
      "epoch: 1000, loss function: 0.16123484075069427\n",
      "epoch: 1100, loss function: 0.14255569875240326\n",
      "epoch: 1200, loss function: 0.12611906230449677\n",
      "epoch: 1300, loss function: 0.11174598336219788\n",
      "epoch: 1400, loss function: 0.09925857186317444\n",
      "epoch: 1500, loss function: 0.08848165720701218\n",
      "epoch: 1600, loss function: 0.07924361526966095\n",
      "epoch: 1700, loss function: 0.07137802243232727\n",
      "epoch: 1800, loss function: 0.06472475826740265\n",
      "epoch: 1900, loss function: 0.059131793677806854\n",
      "epoch: 2000, loss function: 0.054455798119306564\n",
      "epoch: 2100, loss function: 0.05056347697973251\n",
      "epoch: 2200, loss function: 0.047332651913166046\n",
      "epoch: 2300, loss function: 0.044652413576841354\n",
      "epoch: 2400, loss function: 0.042424242943525314\n",
      "epoch: 2500, loss function: 0.04056165739893913\n",
      "epoch: 2600, loss function: 0.038990311324596405\n",
      "epoch: 2700, loss function: 0.03764764592051506\n",
      "epoch: 2800, loss function: 0.03648199141025543\n",
      "epoch: 2900, loss function: 0.035451844334602356\n",
      "epoch: 3000, loss function: 0.03452451899647713\n",
      "epoch: 3100, loss function: 0.03367522731423378\n",
      "epoch: 3200, loss function: 0.032885387539863586\n",
      "epoch: 3300, loss function: 0.032141752541065216\n",
      "epoch: 3400, loss function: 0.03143510967493057\n",
      "epoch: 3500, loss function: 0.030759364366531372\n",
      "epoch: 3600, loss function: 0.03011050820350647\n",
      "epoch: 3700, loss function: 0.029486190527677536\n",
      "epoch: 3800, loss function: 0.028884869068861008\n",
      "epoch: 3900, loss function: 0.02830556035041809\n",
      "epoch: 4000, loss function: 0.027747727930545807\n",
      "epoch: 4100, loss function: 0.02721070870757103\n",
      "epoch: 4200, loss function: 0.02669389173388481\n",
      "epoch: 4300, loss function: 0.026196744292974472\n",
      "epoch: 4400, loss function: 0.025718308985233307\n",
      "epoch: 4500, loss function: 0.025257624685764313\n",
      "epoch: 4600, loss function: 0.024813536554574966\n",
      "epoch: 4700, loss function: 0.024384718388319016\n",
      "epoch: 4800, loss function: 0.023969843983650208\n",
      "epoch: 4900, loss function: 0.023567311465740204\n"
     ]
    }
   ],
   "source": [
    "\n",
    "deg_poly = 100 #degree of the polynomial\n",
    "x_poly = generate_poly(deg_poly, x)\n",
    "scaler = preprocessing.StandardScaler().fit(x_poly)\n",
    "x_poly = scaler.transform(x_poly)\n",
    "x_train, x_test, y_train, y_test = train_test_split(x_poly, y, test_size=0.33, random_state=42)\n",
    "\n",
    "# initialize the neural network \n",
    "model = Regression(deg_poly + 1)\n",
    "params = model.init(jax.random.PRNGKey(0), x_test)\n",
    "opt_state = optx.init(params)\n",
    "\n",
    "# define the loss function \n",
    "@jax.jit\n",
    "def MSE(params, x, y_true):\n",
    "    y_pred = model.apply(params, x)\n",
    "    return jnp.mean((y_pred-y_true)**2)\n",
    "\n",
    "loss_fn = MSE\n",
    "loss_grad_fn = jax.value_and_grad(MSE) # a function to evaluate the function and its gradient)\n",
    "\n",
    "# training loop\n",
    "n_epochs = 5000 #number of training epochs \n",
    "for e in range(n_epochs):\n",
    "    loss_val, grad = loss_grad_fn(params, x_train, y_train)\n",
    "    updates, opt_state = optx.update(grad, opt_state)\n",
    "    params = optax.apply_updates(params, updates)\n",
    "    if e % 100 == 0:\n",
    "        print(f\"epoch: {e}, loss function: {loss_val}\")"
   ]
  },
  {
   "cell_type": "markdown",
   "id": "9256a74b-3c1e-45fd-81e7-d4f890756116",
   "metadata": {},
   "source": [
    "We now evaluate the training and test error. Does the model suffer from overfitting? from underfitting? from both?"
   ]
  },
  {
   "cell_type": "code",
   "execution_count": 60,
   "id": "64f643a1-e79d-4587-89c6-22a6c7a02c32",
   "metadata": {},
   "outputs": [
    {
     "data": {
      "image/png": "[encoded data removed]",
      "text/plain": [
       "<Figure size 432x288 with 1 Axes>"
      ]
     },
     "metadata": {
      "needs_background": "light"
     },
     "output_type": "display_data"
    }
   ],
   "source": [
    "plt.scatter(x[:,0], y, label=\"Training examples\")\n",
    "plt.xlabel(\"x\")\n",
    "plt.ylabel(\"y\")\n",
    "params_nonlinear = params\n",
    "ypred_train = model.apply(params_nonlinear, x_poly)\n",
    "plt.plot(x, ypred_train.T, color='black', label=\"Learned function: Polynomial\")\n",
    "plt.legend()\n",
    "plt.show()"
   ]
  },
  {
   "cell_type": "markdown",
   "id": "79c7b79e-91db-4bc9-8dc5-4f2875df8f7d",
   "metadata": {},
   "source": [
    "Generate a new dataset and evaluate both hypotheses on it. What do you conclude?"
   ]
  },
  {
   "cell_type": "markdown",
   "id": "96f62803-06bd-4edd-b6df-26ab740bd583",
   "metadata": {},
   "source": [
    "One might argue that the curse of dimensionality is resulting from the fact that the basis we are using in multiple dimensions is a direct-product basis. To test the influence of this we not try to evaluate the accuracy of the model using a dimension-free prunning of the direct-product basis set. This prunnign is based on randomly sampling a subset of the full-direct product basis. "
   ]
  }
 ],
 "metadata": {
  "kernelspec": {
   "display_name": "Python 3",
   "language": "python",
   "name": "python3"
  },
  "language_info": {
   "codemirror_mode": {
    "name": "ipython",
    "version": 3
   },
   "file_extension": ".py",
   "mimetype": "text/x-python",
   "name": "python",
   "nbconvert_exporter": "python",
   "pygments_lexer": "ipython3",
   "version": "3.9.16"
  }
 },
 "nbformat": 4,
 "nbformat_minor": 5
}
