{
 "cells": [
  {
   "cell_type": "markdown",
   "id": "387810fc-4e84-4f7e-8cb2-450a79f91e08",
   "metadata": {},
   "source": [
    "# MNIST dataset - Classifiying hand-written digits"
   ]
  },
  {
   "cell_type": "markdown",
   "id": "35646e6a",
   "metadata": {},
   "source": [
    "Let's start by loading libraries."
   ]
  },
  {
   "cell_type": "code",
   "execution_count": 1,
   "id": "fda02c12-6b7c-4cbf-b3b6-430e4fdd389e",
   "metadata": {},
   "outputs": [],
   "source": [
    "import jax \n",
    "import jax.numpy as jnp \n",
    "import flax.linen as nn \n",
    "import matplotlib.pyplot as plt\n",
    "from sklearn.model_selection import train_test_split\n",
    "import optax\n",
    "import numpy as np\n",
    "from sklearn import preprocessing\n",
    "from sklearn.datasets import load_digits"
   ]
  },
  {
   "cell_type": "code",
   "execution_count": 2,
   "id": "4bebc967-ea8a-4d20-82cb-c31b2b1ae02d",
   "metadata": {},
   "outputs": [
    {
     "data": {
      "text/plain": [
       "<Figure size 640x480 with 0 Axes>"
      ]
     },
     "metadata": {},
     "output_type": "display_data"
    },
    {
     "data": {
      "image/png": "[encoded data removed]",
      "text/plain": [
       "<Figure size 480x480 with 1 Axes>"
      ]
     },
     "metadata": {},
     "output_type": "display_data"
    }
   ],
   "source": [
    "# Load data\n",
    "digits = load_digits()\n",
    "Images = digits.data\n",
    "target = digits.target\n",
    "#visualize\n",
    "plt.gray()\n",
    "plt.matshow(digits.images[0])\n",
    "plt.show()"
   ]
  },
  {
   "cell_type": "code",
   "execution_count": 4,
   "id": "d9a53b7c-3f2d-4543-b79d-873d3ad58b6d",
   "metadata": {},
   "outputs": [],
   "source": [
    "class MLP(nn.Module):\n",
    "    \"\"\"\n",
    "    Multi-layer Perceptron\n",
    "    \n",
    "    This class represents a Multi-layer Perceptron (MLP) model, which is a type of feedforward neural network.\n",
    "    MLPs consist of multiple layers of interconnected nodes (called neurons) and are commonly used for\n",
    "    classification tasks.\n",
    "    \n",
    "    Parameters:\n",
    "        nhidden_units (int): Number of hidden units in each layer.\n",
    "        nlayers (int, optional): Number of layers in the MLP. Defaults to 1.\n",
    "        nclasses (int, optional): Number of output classes (categories). Defaults to 10.\n",
    "    \n",
    "    Attributes:\n",
    "        layers (list): List of Dense layers representing the hidden layers in the MLP.\n",
    "        final_layer (Dense): Final Dense layer for producing the output of the MLP.\n",
    "    \"\"\"\n",
    "    nhidden_units: int\n",
    "    nlayers = 1\n",
    "    nclasses = 10\n",
    "    \n",
    "    def setup(self):\n",
    "        \"\"\"\n",
    "        Setup the MLP model by creating the hidden layers and the final output layer.\n",
    "        \"\"\"\n",
    "        self.layers = [nn.Dense(self.nhidden_units) for n in range(self.nlayers)]\n",
    "        self.final_layer = nn.Dense(self.nclasses)\n",
    "        \n",
    "    @nn.compact\n",
    "    def __call__(self, x):\n",
    "        \"\"\"\n",
    "        Perform a forward pass through the MLP.\n",
    "        \n",
    "        Args:\n",
    "            x (jax.interpreters.xla.DeviceArray): Input data.\n",
    "            \n",
    "        Returns:\n",
    "            jax.interpreters.xla.DeviceArray: Output of the MLP.\n",
    "        \"\"\"\n",
    "        for k, lyr in enumerate(self.layers):\n",
    "            x = lyr(x)\n",
    "            x = nn.relu(x)\n",
    "        x = self.final_layer(x)\n",
    "        x = nn.activation.softmax(x)\n",
    "        return x\n",
    "# initializing the optimizer\n",
    "learning_rate = 1e-3\n",
    "optx = optax.adam(learning_rate=learning_rate)"
   ]
  },
  {
   "cell_type": "markdown",
   "id": "e902b185-9ca8-491f-b8bf-ddee2df6b090",
   "metadata": {},
   "source": [
    "The target values we loaded are integers. We now write a code to one-hot encode them. For example, the category \"1\" would become [0, 1, 0, 0, 0, 0, 0, 0, 0, 0, 0]."
   ]
  },
  {
   "cell_type": "code",
   "execution_count": 5,
   "id": "b5540928-b997-4439-b46e-20a38a8b4b7c",
   "metadata": {},
   "outputs": [
    {
     "name": "stdout",
     "output_type": "stream",
     "text": [
      "target value: 8, corresponding one-hot vector: [0. 0. 0. 0. 0. 0. 0. 0. 1. 0.]\n"
     ]
    }
   ],
   "source": [
    "def one_hot_encoder(x):\n",
    "    \"\"\"\n",
    "    One-Hot Encoder\n",
    "    \n",
    "    Converts an array of categorical labels to one-hot encoded representation.\n",
    "    \n",
    "    Args:\n",
    "        x (ndarray): Array of categorical labels.\n",
    "        \n",
    "    Returns:\n",
    "        ndarray: One-hot encoded representation of the input labels.\n",
    "    \"\"\"\n",
    "    nclasses = 10  # Number of classes/categories\n",
    "    out = np.zeros((x.shape[0], nclasses))  # Initialize an array of zeros with shape (number of samples, number of classes)\n",
    "    \n",
    "    for i, x_ in enumerate(x):\n",
    "        out[i, x_] = 1.  # Set the corresponding class index to 1 in each sample\n",
    "        \n",
    "    return out\n",
    "target_oh = one_hot_encoder(target)\n",
    "# test\n",
    "print(f\"target value: {target[40]}, corresponding one-hot vector: {target_oh[40,:]}\")"
   ]
  },
  {
   "cell_type": "markdown",
   "id": "e8a468aa-d570-4492-ab8f-fc8deed40bc9",
   "metadata": {},
   "source": [
    "## Fitting"
   ]
  },
  {
   "cell_type": "code",
   "execution_count": 6,
   "id": "6ab7ee2f-1bea-4479-9641-7c2d0b674fc0",
   "metadata": {},
   "outputs": [
    {
     "name": "stdout",
     "output_type": "stream",
     "text": [
      "epoch: 0, loss function: 7.451040744781494\n",
      "epoch: 100, loss function: 0.03282686695456505\n",
      "epoch: 200, loss function: 0.00741676427423954\n",
      "epoch: 300, loss function: 0.003186935791745782\n",
      "epoch: 400, loss function: 0.0017354247393086553\n",
      "epoch: 500, loss function: 0.001089397701434791\n",
      "epoch: 600, loss function: 0.0007527723209932446\n",
      "epoch: 700, loss function: 0.0005527461180463433\n",
      "epoch: 800, loss function: 0.0004231222264934331\n",
      "epoch: 900, loss function: 0.00033434192300774157\n"
     ]
    }
   ],
   "source": [
    "# split the data into training and test data\n",
    "x_train, x_test, y_train, y_test = train_test_split(Images, target_oh, test_size=0.33, random_state=42)\n",
    "# initialize the neural network \n",
    "model = MLP(256)\n",
    "params = model.init(jax.random.PRNGKey(0), x_test)\n",
    "opt_state = optx.init(params)\n",
    "\n",
    "# define the loss function \n",
    "@jax.jit\n",
    "def cat_cross_entropy(params, x, y_true):\n",
    "    \"\"\"\n",
    "    Categorical Cross Entropy Loss Function\n",
    "\n",
    "    This function calculates the categorical cross entropy loss between the predicted\n",
    "    probabilities and the true one-hot encoded labels.\n",
    "\n",
    "    Parameters:\n",
    "        params (jax.interpreters.xla.DeviceArray): Model parameters.\n",
    "        x (jax.interpreters.xla.DeviceArray): Input data.\n",
    "        y_true (jax.interpreters.xla.DeviceArray): True one-hot encoded labels.\n",
    "\n",
    "    Returns:\n",
    "        jax.interpreters.xla.DeviceArray: Mean categorical cross entropy loss.\n",
    "    \"\"\"\n",
    "    # Forward pass to obtain predicted probabilities\n",
    "    y_pred = model.apply(params, x)\n",
    "\n",
    "    # Calculation of the loss per example\n",
    "    loss_per_example = jnp.sum(-y_true * jnp.log(y_pred), axis=1)\n",
    "\n",
    "    # Return the mean loss across all examples\n",
    "    return jnp.mean(loss_per_example)\n",
    "\n",
    "loss_fn = cat_cross_entropy\n",
    "loss_grad_fn = jax.value_and_grad(cat_cross_entropy) # a function to evaluate the function and its gradient)\n",
    "\n",
    "# training loop\n",
    "n_epochs = 1000 #number of training epochs \n",
    "for e in range(n_epochs):\n",
    "    loss_val, grad = loss_grad_fn(params, x_train, y_train)\n",
    "    updates, opt_state = optx.update(grad, opt_state)\n",
    "    params = optax.apply_updates(params, updates)\n",
    "    if e % 100 == 0:\n",
    "        print(f\"epoch: {e}, loss function: {loss_val}\")"
   ]
  },
  {
   "cell_type": "markdown",
   "id": "12e61faf-3a3d-4abb-9edc-954241271303",
   "metadata": {},
   "source": [
    "Test the learned function on some random input."
   ]
  },
  {
   "cell_type": "code",
   "execution_count": 7,
   "id": "cbca75e5-2ec6-4584-b5ba-195279d6fdcf",
   "metadata": {},
   "outputs": [
    {
     "name": "stdout",
     "output_type": "stream",
     "text": [
      "ture value: 6 predicted: 6\n"
     ]
    }
   ],
   "source": [
    "sample = np.random.randint(low=0, high=x_test.shape[0], size=(1,))\n",
    "y_pred = np.argmax(model.apply(params, x_test[sample,:]))\n",
    "print(f\"ture value: {np.argmax(y_test[sample,:])} predicted: {y_pred}\")\n"
   ]
  },
  {
   "cell_type": "markdown",
   "id": "6352a57e-0e56-47b1-b514-2249afd66b2f",
   "metadata": {},
   "source": [
    "Evaluate the training and test errors."
   ]
  },
  {
   "cell_type": "code",
   "execution_count": 8,
   "id": "497b3640-7462-47fd-b1cd-c5e5e5dde919",
   "metadata": {},
   "outputs": [
    {
     "name": "stdout",
     "output_type": "stream",
     "text": [
      "training loss: 0.00027058509294874966, test loss: 0.09261590987443924\n"
     ]
    }
   ],
   "source": [
    "tr_loss = cat_cross_entropy(params, x_train, y_train)\n",
    "te_loss = cat_cross_entropy(params, x_test, y_test)\n",
    "print(f\"training loss: {tr_loss}, test loss: {te_loss}\")"
   ]
  },
  {
   "cell_type": "markdown",
   "id": "9256a74b-3c1e-45fd-81e7-d4f890756116",
   "metadata": {},
   "source": [
    "We now evaluate the training and test error. Does the model suffer from overfitting? from underfitting? from both?\n",
    "\n",
    "Experiment with the following parameters and see how that affects over-/underfitting. \n",
    "\n",
    "- Complexity of the neural network; by increasing the number of hidden units or number of layers.\n",
    "- Add a regularization layer; it prevents the weights of the neural network from becoming so big. "
   ]
  }
 ],
 "metadata": {
  "kernelspec": {
   "display_name": "Python 3 (ipykernel)",
   "language": "python",
   "name": "python3"
  },
  "language_info": {
   "codemirror_mode": {
    "name": "ipython",
    "version": 3
   },
   "file_extension": ".py",
   "mimetype": "text/x-python",
   "name": "python",
   "nbconvert_exporter": "python",
   "pygments_lexer": "ipython3",
   "version": "3.12.2"
  }
 },
 "nbformat": 4,
 "nbformat_minor": 5
}
