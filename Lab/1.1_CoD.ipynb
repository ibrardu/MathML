{
 "cells": [
  {
   "cell_type": "code",
   "execution_count": 39,
   "id": "fda02c12-6b7c-4cbf-b3b6-430e4fdd389e",
   "metadata": {},
   "outputs": [],
   "source": [
    "import jax \n",
    "import jax.numpy as jnp \n",
    "import flax.linen as nn \n",
    "import matplotlib.pyplot as plt\n",
    "from sklearn.preprocessing import PolynomialFeatures\n",
    "from sklearn.model_selection import train_test_split\n",
    "import optax\n",
    "from sklearn.metrics import mean_squared_error as mse"
   ]
  },
  {
   "cell_type": "code",
   "execution_count": 83,
   "id": "4bebc967-ea8a-4d20-82cb-c31b2b1ae02d",
   "metadata": {},
   "outputs": [
    {
     "data": {
      "image/png": "[encoded data removed]",
      "text/plain": [
       "<Figure size 432x288 with 1 Axes>"
      ]
     },
     "metadata": {
      "needs_background": "light"
     },
     "output_type": "display_data"
    }
   ],
   "source": [
    "# function to approximate \n",
    "def f(x):\n",
    "    return jnp.cos(5*jnp.prod(x, axis=1))*jnp.exp(-x[:,0])\n",
    "\n",
    "# example in one dimension\n",
    "x = jnp.linspace(-1,1,1000).reshape(-1,1)\n",
    "y = f(x)\n",
    "plt.plot(x, y)\n",
    "plt.xlabel(\"x\")\n",
    "plt.ylabel(\"y\")\n",
    "plt.show()"
   ]
  },
  {
   "cell_type": "code",
   "execution_count": 84,
   "id": "d9a53b7c-3f2d-4543-b79d-873d3ad58b6d",
   "metadata": {},
   "outputs": [],
   "source": [
    "class Regression(nn.Module):\n",
    "    num_features: int\n",
    "    \n",
    "    def setup(self):\n",
    "        self.w = self.param('weights', jax.nn.initializers.glorot_uniform(),\n",
    "                                (self.num_features,1))\n",
    "    @nn.compact\n",
    "    def __call__(self, x):\n",
    "        print(x.shape, self.w.shape)\n",
    "        out = jnp.sum(x*self.w[:,0], axis=1)\n",
    "        print(out.shape)\n",
    "        return out\n",
    "# initializing the optimizer\n",
    "learning_rate = 1e-3\n",
    "optx = optax.adam(learning_rate=learning_rate)\n",
    "# A function to generate polynomial features - equivalent to fitting using a polynomial \n",
    "def generate_poly(deg_poly, x):\n",
    "    poly = PolynomialFeatures(deg_poly)\n",
    "    return poly.fit_transform(x)\n"
   ]
  },
  {
   "cell_type": "markdown",
   "id": "e8a468aa-d570-4492-ab8f-fc8deed40bc9",
   "metadata": {},
   "source": [
    "## Fitting a function in one dimension"
   ]
  },
  {
   "cell_type": "code",
   "execution_count": 85,
   "id": "497b3640-7462-47fd-b1cd-c5e5e5dde919",
   "metadata": {},
   "outputs": [
    {
     "name": "stdout",
     "output_type": "stream",
     "text": [
      "(3300, 51) (51, 1)\n",
      "(3300,)\n",
      "(6700, 51) (51, 1)\n",
      "(6700,)\n",
      "epoch: 0, loss function: 0.8350861072540283\n",
      "epoch: 500, loss function: 0.49023446440696716\n",
      "epoch: 1000, loss function: 0.37670081853866577\n",
      "epoch: 1500, loss function: 0.31107279658317566\n",
      "epoch: 2000, loss function: 0.2660868763923645\n",
      "epoch: 2500, loss function: 0.22958408296108246\n",
      "epoch: 3000, loss function: 0.19759507477283478\n",
      "epoch: 3500, loss function: 0.1696707010269165\n",
      "epoch: 4000, loss function: 0.1459038257598877\n",
      "epoch: 4500, loss function: 0.12619870901107788\n",
      "epoch: 5000, loss function: 0.11016121506690979\n",
      "epoch: 5500, loss function: 0.09709593653678894\n",
      "epoch: 6000, loss function: 0.0861077606678009\n",
      "epoch: 6500, loss function: 0.07634896785020828\n",
      "epoch: 7000, loss function: 0.06728615611791611\n",
      "epoch: 7500, loss function: 0.05874565616250038\n",
      "epoch: 8000, loss function: 0.05076410993933678\n",
      "epoch: 8500, loss function: 0.043439749628305435\n",
      "epoch: 9000, loss function: 0.03685823827981949\n",
      "epoch: 9500, loss function: 0.031072597950696945\n"
     ]
    }
   ],
   "source": [
    "#training data\n",
    "x = jnp.linspace(-1,1,10000).reshape(-1,1)\n",
    "y = f(x)\n",
    "\n",
    "deg_poly = 50 #degree of the polynomial\n",
    "x_poly = generate_poly(deg_poly, x)\n",
    "x_train, x_test, y_train, y_test = train_test_split(x_poly, y, test_size=0.33, random_state=42)\n",
    "\n",
    "# initialize the neural network \n",
    "model = Regression(deg_poly + 1)\n",
    "params = model.init(jax.random.PRNGKey(0), x_test)\n",
    "opt_state = optx.init(params)\n",
    "\n",
    "# define the loss function \n",
    "@jax.jit\n",
    "def MSE(params, x, y_true):\n",
    "    y_pred = model.apply(params, x)\n",
    "    return jnp.mean((y_pred-y_true)**2)\n",
    "\n",
    "loss_fn = MSE\n",
    "loss_grad_fn = jax.value_and_grad(MSE) # a function to evaluate the function and its gradient)\n",
    "\n",
    "# training loop\n",
    "n_epochs = 10000 #number of training epochs \n",
    "for e in range(n_epochs):\n",
    "    loss_val, grad = loss_grad_fn(params, x_train, y_train)\n",
    "    updates, opt_state = optx.update(grad, opt_state)\n",
    "    params = optax.apply_updates(params, updates)\n",
    "    if e % 500 == 0:\n",
    "        print(f\"epoch: {e}, loss function: {loss_val}\")"
   ]
  },
  {
   "cell_type": "markdown",
   "id": "9256a74b-3c1e-45fd-81e7-d4f890756116",
   "metadata": {},
   "source": [
    "We now evaluate the training and test error. Does the model suffer from overfitting? from underfitting? from both?"
   ]
  },
  {
   "cell_type": "code",
   "execution_count": 86,
   "id": "64f643a1-e79d-4587-89c6-22a6c7a02c32",
   "metadata": {},
   "outputs": [
    {
     "name": "stdout",
     "output_type": "stream",
     "text": [
      "(3300, 51) (51, 1)\n",
      "(3300,)\n",
      "training error: 0.026101306080818176, test error: 0.02636314556002617\n",
      "(10000, 51) (51, 1)\n",
      "(10000,)\n"
     ]
    },
    {
     "data": {
      "text/plain": [
       "Text(0.5, 1.0, 'Functions on all data')"
      ]
     },
     "execution_count": 86,
     "metadata": {},
     "output_type": "execute_result"
    },
    {
     "data": {
      "image/png": "[encoded data removed]",
      "text/plain": [
       "<Figure size 432x288 with 1 Axes>"
      ]
     },
     "metadata": {
      "needs_background": "light"
     },
     "output_type": "display_data"
    }
   ],
   "source": [
    "# evaluate the training and test errors \n",
    "tr_error = MSE(params, x_train, y_train)\n",
    "te_error = MSE(params, x_test, y_test)\n",
    "print(f\"training error: {tr_error}, test error: {te_error}\")\n",
    "y_pred = model.apply(params, x_poly)\n",
    "# plotting the true and predicted signal on training data \n",
    "plt.plot(x, y, marker='o', color='r', label=\"True function\")\n",
    "plt.plot(x, y_pred, marker='o', color='black', label=\"Approximate function\")\n",
    "plt.xlabel('x')\n",
    "plt.title(\"Functions on all data\")"
   ]
  },
  {
   "cell_type": "markdown",
   "id": "79c7b79e-91db-4bc9-8dc5-4f2875df8f7d",
   "metadata": {},
   "source": [
    "An important question here is how many "
   ]
  }
 ],
 "metadata": {
  "kernelspec": {
   "display_name": "Python 3",
   "language": "python",
   "name": "python3"
  },
  "language_info": {
   "codemirror_mode": {
    "name": "ipython",
    "version": 3
   },
   "file_extension": ".py",
   "mimetype": "text/x-python",
   "name": "python",
   "nbconvert_exporter": "python",
   "pygments_lexer": "ipython3",
   "version": "3.9.16"
  }
 },
 "nbformat": 4,
 "nbformat_minor": 5
}
