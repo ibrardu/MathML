{
 "cells": [
  {
   "cell_type": "code",
   "execution_count": 49,
   "id": "fda02c12-6b7c-4cbf-b3b6-430e4fdd389e",
   "metadata": {},
   "outputs": [],
   "source": [
    "import jax \n",
    "import jax.numpy as jnp \n",
    "import flax.linen as nn \n",
    "import matplotlib.pyplot as plt\n",
    "from sklearn.preprocessing import PolynomialFeatures\n",
    "from sklearn.model_selection import train_test_split\n",
    "import optax\n",
    "from sklearn.metrics import mean_squared_error as mse\n",
    "import numpy as np\n",
    "from sklearn import preprocessing"
   ]
  },
  {
   "cell_type": "code",
   "execution_count": 50,
   "id": "4bebc967-ea8a-4d20-82cb-c31b2b1ae02d",
   "metadata": {},
   "outputs": [
    {
     "data": {
      "image/png": "[encoded data removed]",
      "text/plain": [
       "<Figure size 432x288 with 1 Axes>"
      ]
     },
     "metadata": {
      "needs_background": "light"
     },
     "output_type": "display_data"
    }
   ],
   "source": [
    "# function to approximate \n",
    "def f(x):\n",
    "    return jnp.cos(2*jnp.prod(x, axis=1))*jnp.exp(-x[:,0])\n",
    "\n",
    "# example in one dimension\n",
    "x = jnp.linspace(-1,1,1000).reshape(-1,1)\n",
    "y = f(x)\n",
    "plt.plot(x, y)\n",
    "plt.xlabel(\"x\")\n",
    "plt.ylabel(\"y\")\n",
    "plt.show()"
   ]
  },
  {
   "cell_type": "code",
   "execution_count": 63,
   "id": "d9a53b7c-3f2d-4543-b79d-873d3ad58b6d",
   "metadata": {},
   "outputs": [],
   "source": [
    "class Regression(nn.Module):\n",
    "    num_features: int\n",
    "    \n",
    "    def setup(self):\n",
    "        self.w = self.param('weights', jax.nn.initializers.glorot_uniform(),\n",
    "                                (self.num_features,1))\n",
    "        self.shift = self.param('bias', jax.nn.initializers.glorot_uniform(),\n",
    "                                (1,1))\n",
    "    @nn.compact\n",
    "    def __call__(self, x):\n",
    "        out = jnp.sum(x*self.w[:,0], axis=1)\n",
    "        return out + self.shift\n",
    "# initializing the optimizer\n",
    "learning_rate = 1e-3\n",
    "optx = optax.adam(learning_rate=learning_rate)\n",
    "# A function to generate polynomial features - equivalent to fitting using a polynomial \n",
    "def generate_poly(deg_poly, x):\n",
    "    poly = PolynomialFeatures(deg_poly)\n",
    "    return poly.fit_transform(x)\n"
   ]
  },
  {
   "cell_type": "markdown",
   "id": "e8a468aa-d570-4492-ab8f-fc8deed40bc9",
   "metadata": {},
   "source": [
    "## Fitting a single-variate function"
   ]
  },
  {
   "cell_type": "code",
   "execution_count": 64,
   "id": "497b3640-7462-47fd-b1cd-c5e5e5dde919",
   "metadata": {},
   "outputs": [
    {
     "name": "stdout",
     "output_type": "stream",
     "text": [
      "epoch: 0, loss function: 1.921583890914917\n",
      "epoch: 100, loss function: 0.5517544746398926\n",
      "epoch: 200, loss function: 0.24463360011577606\n",
      "epoch: 300, loss function: 0.149002343416214\n",
      "epoch: 400, loss function: 0.09587560594081879\n",
      "epoch: 500, loss function: 0.06250157207250595\n",
      "epoch: 600, loss function: 0.04245973750948906\n",
      "epoch: 700, loss function: 0.03080572746694088\n",
      "epoch: 800, loss function: 0.02398470975458622\n",
      "epoch: 900, loss function: 0.019759060814976692\n",
      "epoch: 1000, loss function: 0.01685989461839199\n",
      "epoch: 1100, loss function: 0.014630366116762161\n",
      "epoch: 1200, loss function: 0.01275967713445425\n",
      "epoch: 1300, loss function: 0.011114334687590599\n",
      "epoch: 1400, loss function: 0.009642686694860458\n",
      "epoch: 1500, loss function: 0.008326207287609577\n",
      "epoch: 1600, loss function: 0.007157186511904001\n",
      "epoch: 1700, loss function: 0.0061297048814594746\n",
      "epoch: 1800, loss function: 0.005236626137048006\n",
      "epoch: 1900, loss function: 0.004469005856662989\n"
     ]
    }
   ],
   "source": [
    "#training data\n",
    "x = jnp.linspace(-1,1,500).reshape(-1,1)\n",
    "y = f(x)\n",
    "\n",
    "deg_poly = 70 #degree of the polynomial\n",
    "x_poly = generate_poly(deg_poly, x)\n",
    "scaler = preprocessing.StandardScaler().fit(x_poly)\n",
    "x_poly = scaler.transform(x_poly)\n",
    "x_train, x_test, y_train, y_test = train_test_split(x_poly, y, test_size=0.33, random_state=42)\n",
    "\n",
    "# initialize the neural network \n",
    "model = Regression(deg_poly + 1)\n",
    "params = model.init(jax.random.PRNGKey(0), x_test)\n",
    "opt_state = optx.init(params)\n",
    "\n",
    "# define the loss function \n",
    "@jax.jit\n",
    "def MSE(params, x, y_true):\n",
    "    y_pred = model.apply(params, x)\n",
    "    return jnp.mean((y_pred-y_true)**2)\n",
    "\n",
    "loss_fn = MSE\n",
    "loss_grad_fn = jax.value_and_grad(MSE) # a function to evaluate the function and its gradient)\n",
    "\n",
    "# training loop\n",
    "n_epochs = 2000 #number of training epochs \n",
    "for e in range(n_epochs):\n",
    "    loss_val, grad = loss_grad_fn(params, x_train, y_train)\n",
    "    updates, opt_state = optx.update(grad, opt_state)\n",
    "    params = optax.apply_updates(params, updates)\n",
    "    if e % 100 == 0:\n",
    "        print(f\"epoch: {e}, loss function: {loss_val}\")"
   ]
  },
  {
   "cell_type": "markdown",
   "id": "9256a74b-3c1e-45fd-81e7-d4f890756116",
   "metadata": {},
   "source": [
    "We now evaluate the training and test error. Does the model suffer from overfitting? from underfitting? from both?"
   ]
  },
  {
   "cell_type": "code",
   "execution_count": 67,
   "id": "64f643a1-e79d-4587-89c6-22a6c7a02c32",
   "metadata": {},
   "outputs": [
    {
     "name": "stdout",
     "output_type": "stream",
     "text": [
      "training error: 0.003816316369920969, test error: 0.004423259757459164\n",
      "(500, 1)\n"
     ]
    },
    {
     "data": {
      "text/plain": [
       "Text(0.5, 1.0, 'Functions on all data')"
      ]
     },
     "execution_count": 67,
     "metadata": {},
     "output_type": "execute_result"
    },
    {
     "data": {
      "image/png": "[encoded data removed]",
      "text/plain": [
       "<Figure size 432x288 with 1 Axes>"
      ]
     },
     "metadata": {
      "needs_background": "light"
     },
     "output_type": "display_data"
    }
   ],
   "source": [
    "# evaluate the training and test errors \n",
    "tr_error = MSE(params, x_train, y_train)\n",
    "te_error = MSE(params, x_test, y_test)\n",
    "print(f\"training error: {tr_error}, test error: {te_error}\")\n",
    "y_pred = model.apply(params, x_poly).T\n",
    "print(y_pred.shape)\n",
    "# plotting the true and predicted signal on training data \n",
    "plt.plot(x, y, marker='o', color='r', label=\"True function\")\n",
    "plt.plot(x, y_pred, marker='o', color='black', label=\"Approximate function\")\n",
    "plt.xlabel('x')\n",
    "plt.title(\"Functions on all data\")"
   ]
  },
  {
   "cell_type": "markdown",
   "id": "79c7b79e-91db-4bc9-8dc5-4f2875df8f7d",
   "metadata": {},
   "source": [
    "An important question here is how complex need the approximating function be for to gain a certain accuracy. We study this question:"
   ]
  },
  {
   "cell_type": "code",
   "execution_count": 71,
   "id": "879bd8d7-688f-4a01-8dae-4dfc5e34e058",
   "metadata": {},
   "outputs": [
    {
     "name": "stdout",
     "output_type": "stream",
     "text": [
      "epoch: 0, loss function: 1.7015118598937988\n",
      "epoch: 500, loss function: 0.6253057718276978\n",
      "epoch: 1000, loss function: 0.22473518550395966\n",
      "epoch: 1500, loss function: 0.08501800149679184\n",
      "epoch: 2000, loss function: 0.0513715036213398\n",
      "epoch: 2500, loss function: 0.046636007726192474\n",
      "epoch: 3000, loss function: 0.04630668833851814\n",
      "epoch: 3500, loss function: 0.0462973453104496\n",
      "epoch: 4000, loss function: 0.046297263354063034\n",
      "epoch: 4500, loss function: 0.046297263354063034\n",
      "epoch: 5000, loss function: 0.046297259628772736\n",
      "epoch: 5500, loss function: 0.046297263354063034\n",
      "epoch: 6000, loss function: 0.046297263354063034\n",
      "epoch: 6500, loss function: 0.046297263354063034\n",
      "epoch: 7000, loss function: 0.046297263354063034\n",
      "epoch: 7500, loss function: 0.046297263354063034\n",
      "training of for polynomial degree: 2 is done\n",
      "epoch: 0, loss function: 2.086591958999634\n",
      "epoch: 500, loss function: 0.13295581936836243\n",
      "epoch: 1000, loss function: 0.015519591979682446\n",
      "epoch: 1500, loss function: 0.007953631691634655\n",
      "epoch: 2000, loss function: 0.005973159801214933\n",
      "epoch: 2500, loss function: 0.004273115191608667\n",
      "epoch: 3000, loss function: 0.0028640085365623236\n",
      "epoch: 3500, loss function: 0.0018104517366737127\n",
      "epoch: 4000, loss function: 0.0011033405316993594\n",
      "epoch: 4500, loss function: 0.0006845808820798993\n",
      "epoch: 5000, loss function: 0.00047293651732616127\n",
      "epoch: 5500, loss function: 0.000384324201149866\n",
      "epoch: 6000, loss function: 0.0003511129762046039\n",
      "epoch: 6500, loss function: 0.0003340890980325639\n",
      "epoch: 7000, loss function: 0.00031810716609470546\n",
      "epoch: 7500, loss function: 0.0002994326059706509\n",
      "training of for polynomial degree: 7 is done\n",
      "epoch: 0, loss function: 1.9829014539718628\n",
      "epoch: 500, loss function: 0.0881052017211914\n",
      "epoch: 1000, loss function: 0.05668046325445175\n",
      "epoch: 1500, loss function: 0.040425434708595276\n",
      "epoch: 2000, loss function: 0.026502149179577827\n",
      "epoch: 2500, loss function: 0.015414219349622726\n",
      "epoch: 3000, loss function: 0.007964463904500008\n",
      "epoch: 3500, loss function: 0.00385615648701787\n",
      "epoch: 4000, loss function: 0.002045121742412448\n",
      "epoch: 4500, loss function: 0.0013942751102149487\n",
      "epoch: 5000, loss function: 0.0011507713934406638\n",
      "epoch: 5500, loss function: 0.000995712005533278\n",
      "epoch: 6000, loss function: 0.0008454770431853831\n",
      "epoch: 6500, loss function: 0.0006901382585056126\n",
      "epoch: 7000, loss function: 0.0005359199712984264\n",
      "epoch: 7500, loss function: 0.0003929233062081039\n",
      "training of for polynomial degree: 13 is done\n",
      "epoch: 0, loss function: 2.301536798477173\n",
      "epoch: 500, loss function: 0.1336718201637268\n",
      "epoch: 1000, loss function: 0.06394413113594055\n",
      "epoch: 1500, loss function: 0.029103592038154602\n",
      "epoch: 2000, loss function: 0.010616539046168327\n",
      "epoch: 2500, loss function: 0.0034889630042016506\n",
      "epoch: 3000, loss function: 0.0015157322632148862\n",
      "epoch: 3500, loss function: 0.0010145447449758649\n",
      "epoch: 4000, loss function: 0.0007628407329320908\n",
      "epoch: 4500, loss function: 0.0005510099581442773\n",
      "epoch: 5000, loss function: 0.00037467977381311357\n",
      "epoch: 5500, loss function: 0.00024370907340198755\n",
      "epoch: 6000, loss function: 0.00015912915114313364\n",
      "epoch: 6500, loss function: 0.00011209564399905503\n",
      "epoch: 7000, loss function: 8.853356848703697e-05\n",
      "epoch: 7500, loss function: 7.587474101455882e-05\n",
      "training of for polynomial degree: 19 is done\n",
      "epoch: 0, loss function: 1.9820833206176758\n",
      "epoch: 500, loss function: 0.11006613075733185\n",
      "epoch: 1000, loss function: 0.02776961773633957\n",
      "epoch: 1500, loss function: 0.013674018904566765\n",
      "epoch: 2000, loss function: 0.006932324264198542\n",
      "epoch: 2500, loss function: 0.0032765110954642296\n",
      "epoch: 3000, loss function: 0.001621284056454897\n",
      "epoch: 3500, loss function: 0.0009610784472897649\n",
      "epoch: 4000, loss function: 0.0006814482621848583\n",
      "epoch: 4500, loss function: 0.0005237680743448436\n",
      "epoch: 5000, loss function: 0.0004026016977149993\n",
      "epoch: 5500, loss function: 0.0002976131218019873\n",
      "epoch: 6000, loss function: 0.00020916751236654818\n",
      "epoch: 6500, loss function: 0.0001401999033987522\n",
      "epoch: 7000, loss function: 9.084351768251508e-05\n",
      "epoch: 7500, loss function: 5.836843774886802e-05\n",
      "training of for polynomial degree: 25 is done\n"
     ]
    }
   ],
   "source": [
    "def Trainer(deg_poly, params):\n",
    "    \"\"\"\n",
    "    Performs a full training procedure where the complexity of the training model is determined by the degree of the polynomial.\n",
    "    \"\"\"\n",
    "\n",
    "    opt_state = optx.init(params)\n",
    "    n_epochs = 8000 #number of training epochs \n",
    "    for e in range(n_epochs):\n",
    "        loss_val, grad = loss_grad_fn(params, x_train, y_train)\n",
    "        updates, opt_state = optx.update(grad, opt_state)\n",
    "        params = optax.apply_updates(params, updates)\n",
    "        if e % 500 == 0:\n",
    "            print(f\"epoch: {e}, loss function: {loss_val}\")\n",
    "            \n",
    "    # compute training and testing errors\n",
    "    \n",
    "    tr_error = MSE(params, x_train, y_train)\n",
    "    te_error = MSE(params, x_test, y_test)\n",
    "    \n",
    "    return tr_error, te_error\n",
    "\n",
    "tr_errors = []\n",
    "te_errors = []\n",
    "\n",
    "deg_poly_list = np.linspace(2,25,5,dtype=int)\n",
    "for deg_poly in deg_poly_list:\n",
    "    x_poly = generate_poly(deg_poly, x)\n",
    "    #putting the features on the same scale\n",
    "    scaler = preprocessing.StandardScaler().fit(x_poly)\n",
    "    x_poly = scaler.transform(x_poly)\n",
    "    x_train, x_test, y_train, y_test = train_test_split(x_poly, y, test_size=0.33, random_state=42)\n",
    "    model = Regression(deg_poly + 1)\n",
    "    params = model.init(jax.random.PRNGKey(0), x_test)\n",
    "    tr_err, te_err = Trainer(deg_poly, params)\n",
    "    tr_errors.append(tr_err)\n",
    "    te_errors.append(te_err)\n",
    "    print(f\"training of for polynomial degree: {deg_poly} is done\")"
   ]
  },
  {
   "cell_type": "code",
   "execution_count": 81,
   "id": "4654c590-3996-42ef-82b9-63dd639d961d",
   "metadata": {},
   "outputs": [
    {
     "data": {
      "image/png": "[encoded data removed]",
      "text/plain": [
       "<Figure size 432x288 with 1 Axes>"
      ]
     },
     "metadata": {
      "needs_background": "light"
     },
     "output_type": "display_data"
    }
   ],
   "source": [
    "\n",
    "# plotting both errors \n",
    "plt.plot(deg_poly_list, tr_errors, marker=\"o\", color='r', label=\"training error\")\n",
    "plt.plot(deg_poly_list, te_errors, marker=\"o\", color='black', label=\"test error\")\n",
    "plt.axhline(y=1e-5, color='b', linestyle='--')\n",
    "plt.xlabel(\"x\")\n",
    "plt.yscale('log')\n",
    "plt.ylabel(\"Errors\")\n",
    "plt.legend()\n",
    "plt.show()"
   ]
  },
  {
   "cell_type": "markdown",
   "id": "bc88d9e4-cc3d-4f29-8acb-8d9518fd48fa",
   "metadata": {},
   "source": [
    "## Fitting a multi-variate function"
   ]
  },
  {
   "cell_type": "code",
   "execution_count": 74,
   "id": "62f6d212-8bb5-4282-989b-2af435dadd22",
   "metadata": {},
   "outputs": [],
   "source": [
    "x = jnp.linspace(-1,1,500)#.reshape(-1,1)\n",
    "elems = jnp.meshgrid(x,x)\n",
    "# Flatten the arrays and concatenate them to get the direct product\n",
    "x_mD = np.vstack([elem.ravel() for elem in elems]).T\n",
    "y = f(x_mD)"
   ]
  },
  {
   "cell_type": "code",
   "execution_count": 76,
   "id": "fc9a3f7f-b4ee-4306-8e1e-747f009e8cb7",
   "metadata": {},
   "outputs": [
    {
     "name": "stdout",
     "output_type": "stream",
     "text": [
      "epoch: 0, loss function: 2.5837583541870117\n",
      "epoch: 500, loss function: 0.6473450660705566\n",
      "epoch: 1000, loss function: 0.1923411339521408\n",
      "epoch: 1500, loss function: 0.10181887447834015\n",
      "epoch: 2000, loss function: 0.09034041315317154\n",
      "epoch: 2500, loss function: 0.0896039605140686\n",
      "epoch: 3000, loss function: 0.08958495408296585\n",
      "epoch: 3500, loss function: 0.08958480507135391\n",
      "epoch: 4000, loss function: 0.08958480507135391\n",
      "epoch: 4500, loss function: 0.08958480507135391\n",
      "epoch: 5000, loss function: 0.08958480507135391\n",
      "epoch: 5500, loss function: 0.08958480507135391\n",
      "epoch: 6000, loss function: 0.08958480507135391\n",
      "epoch: 6500, loss function: 0.08958480507135391\n",
      "epoch: 7000, loss function: 0.08958480507135391\n",
      "epoch: 7500, loss function: 0.08958480507135391\n",
      "training of for polynomial degree: 2 is done\n",
      "epoch: 0, loss function: 1.743695855140686\n",
      "epoch: 500, loss function: 0.1911543607711792\n",
      "epoch: 1000, loss function: 0.028419973328709602\n",
      "epoch: 1500, loss function: 0.004692111164331436\n",
      "epoch: 2000, loss function: 0.0018791600596159697\n",
      "epoch: 2500, loss function: 0.0010965089313685894\n",
      "epoch: 3000, loss function: 0.0007122798124328256\n",
      "epoch: 3500, loss function: 0.0004908331320621073\n",
      "epoch: 4000, loss function: 0.0003507891669869423\n",
      "epoch: 4500, loss function: 0.0002559827989898622\n",
      "epoch: 5000, loss function: 0.00018969715165439993\n",
      "epoch: 5500, loss function: 0.0001431177370250225\n",
      "epoch: 6000, loss function: 0.00010962285159621388\n",
      "epoch: 6500, loss function: 8.438850636593997e-05\n",
      "epoch: 7000, loss function: 6.51201480650343e-05\n",
      "epoch: 7500, loss function: 5.1249917305540293e-05\n",
      "training of for polynomial degree: 7 is done\n",
      "epoch: 0, loss function: 3.1696205139160156\n",
      "epoch: 500, loss function: 0.16911807656288147\n",
      "epoch: 1000, loss function: 0.022806541994214058\n",
      "epoch: 1500, loss function: 0.0026330987457185984\n",
      "epoch: 2000, loss function: 0.0011378598865121603\n",
      "epoch: 2500, loss function: 0.0008225961937569082\n",
      "epoch: 3000, loss function: 0.0005990003701299429\n",
      "epoch: 3500, loss function: 0.00042867709998972714\n",
      "epoch: 4000, loss function: 0.0003026357153430581\n",
      "epoch: 4500, loss function: 0.0002131607907358557\n",
      "epoch: 5000, loss function: 0.00015155792061705142\n",
      "epoch: 5500, loss function: 0.00010913442383753136\n",
      "epoch: 6000, loss function: 7.921030919533223e-05\n",
      "epoch: 6500, loss function: 5.7968089095084e-05\n",
      "epoch: 7000, loss function: 4.29017236456275e-05\n",
      "epoch: 7500, loss function: 3.262776954215951e-05\n",
      "training of for polynomial degree: 13 is done\n",
      "epoch: 0, loss function: 3.3265328407287598\n",
      "epoch: 500, loss function: 0.16989624500274658\n",
      "epoch: 1000, loss function: 0.023825006559491158\n",
      "epoch: 1500, loss function: 0.0028446828946471214\n",
      "epoch: 2000, loss function: 0.0010349274380132556\n",
      "epoch: 2500, loss function: 0.0006251468439586461\n",
      "epoch: 3000, loss function: 0.00038112219772301614\n",
      "epoch: 3500, loss function: 0.0002282241766806692\n",
      "epoch: 4000, loss function: 0.00013978889910504222\n",
      "epoch: 4500, loss function: 9.10719099920243e-05\n",
      "epoch: 5000, loss function: 6.358827522490174e-05\n",
      "epoch: 5500, loss function: 4.977965363650583e-05\n",
      "epoch: 6000, loss function: 3.494539487292059e-05\n",
      "epoch: 6500, loss function: 2.6741963665699586e-05\n",
      "epoch: 7000, loss function: 2.1210009435890242e-05\n",
      "epoch: 7500, loss function: 1.7247919458895922e-05\n",
      "training of for polynomial degree: 19 is done\n",
      "epoch: 0, loss function: 2.1331465244293213\n",
      "epoch: 500, loss function: 0.16334374248981476\n",
      "epoch: 1000, loss function: 0.02135125920176506\n",
      "epoch: 1500, loss function: 0.0018801455153152347\n",
      "epoch: 2000, loss function: 0.0005276547744870186\n",
      "epoch: 2500, loss function: 0.0003202158259227872\n",
      "epoch: 3000, loss function: 0.00020971133199054748\n",
      "epoch: 3500, loss function: 0.00014393524907063693\n",
      "epoch: 4000, loss function: 0.0001379076566081494\n",
      "epoch: 4500, loss function: 7.259617268573493e-05\n",
      "epoch: 5000, loss function: 5.141420479048975e-05\n",
      "epoch: 5500, loss function: 3.633594315033406e-05\n",
      "epoch: 6000, loss function: 2.5881838155328296e-05\n",
      "epoch: 6500, loss function: 2.323462103959173e-05\n",
      "epoch: 7000, loss function: 1.572532710270025e-05\n",
      "epoch: 7500, loss function: 1.2589415746333543e-05\n",
      "training of for polynomial degree: 25 is done\n"
     ]
    }
   ],
   "source": [
    "def Trainer(deg_poly, params):\n",
    "    \"\"\"\n",
    "    Performs a full training procedure where the complexity of the training model is determined by the degree of the polynomial.\n",
    "    \"\"\"\n",
    "\n",
    "    opt_state = optx.init(params)\n",
    "    n_epochs = 8000 #number of training epochs \n",
    "    for e in range(n_epochs):\n",
    "        loss_val, grad = loss_grad_fn(params, x_train, y_train)\n",
    "        updates, opt_state = optx.update(grad, opt_state)\n",
    "        params = optax.apply_updates(params, updates)\n",
    "        if e % 500 == 0:\n",
    "            print(f\"epoch: {e}, loss function: {loss_val}\")\n",
    "            \n",
    "    # compute training and testing errors\n",
    "    \n",
    "    tr_error = MSE(params, x_train, y_train)\n",
    "    te_error = MSE(params, x_test, y_test)\n",
    "    \n",
    "    return tr_error, te_error\n",
    "\n",
    "tr_errors = []\n",
    "te_errors = []\n",
    "\n",
    "deg_poly_list = np.linspace(2,25,5, dtype=int)\n",
    "nfuncs = []\n",
    "for deg_poly in deg_poly_list:\n",
    "    x_poly = generate_poly(deg_poly, x_mD)\n",
    "    scaler = preprocessing.StandardScaler().fit(x_poly)\n",
    "    x_poly = scaler.transform(x_poly)\n",
    "    x_train, x_test, y_train, y_test = train_test_split(x_poly, y, test_size=0.33, random_state=42)\n",
    "    nfuncs.append(x_poly.shape[1])\n",
    "    model = Regression(x_poly.shape[1])\n",
    "    params = model.init(jax.random.PRNGKey(0), x_test)\n",
    "    tr_err, te_err = Trainer(deg_poly, params)\n",
    "    tr_errors.append(tr_err)\n",
    "    te_errors.append(te_err)\n",
    "    print(f\"training of for polynomial degree: {deg_poly} is done\")\n"
   ]
  },
  {
   "cell_type": "code",
   "execution_count": 82,
   "id": "4b22fd3a-8895-4a4c-b7a2-c89b469ae1e9",
   "metadata": {},
   "outputs": [
    {
     "data": {
      "image/png": "[encoded data removed]",
      "text/plain": [
       "<Figure size 432x288 with 1 Axes>"
      ]
     },
     "metadata": {
      "needs_background": "light"
     },
     "output_type": "display_data"
    }
   ],
   "source": [
    "\n",
    "# plotting both errors \n",
    "plt.plot(nfuncs, tr_errors, marker=\"o\", color='r', label=\"training error\")\n",
    "plt.plot(nfuncs, te_errors, marker=\"o\", color='black', label=\"test error\")\n",
    "plt.axhline(y=1e-5, color='b', linestyle='--')\n",
    "plt.xlabel(\"x\")\n",
    "plt.ylabel(\"Errors\")\n",
    "plt.yscale(\"log\")\n",
    "plt.legend()\n",
    "plt.show()"
   ]
  },
  {
   "cell_type": "markdown",
   "id": "96f62803-06bd-4edd-b6df-26ab740bd583",
   "metadata": {},
   "source": [
    "One might argue that the curse of dimensionality is resulting from the fact that the basis we are using in multiple dimensions is a direct-product basis. To test the influence of this we not try to evaluate the accuracy of the model using a dimension-free prunning of the direct-product basis set. This prunnign is based on randomly sampling a subset of the full-direct product basis. "
   ]
  },
  {
   "cell_type": "code",
   "execution_count": 83,
   "id": "2a45285a-aad3-4796-aa73-b9de3721f2a9",
   "metadata": {},
   "outputs": [
    {
     "name": "stdout",
     "output_type": "stream",
     "text": [
      "epoch: 0, loss function: 3.958493947982788\n",
      "epoch: 500, loss function: 1.6369404792785645\n",
      "epoch: 1000, loss function: 0.6707410216331482\n",
      "epoch: 1500, loss function: 0.3552456498146057\n",
      "epoch: 2000, loss function: 0.2796911895275116\n",
      "epoch: 2500, loss function: 0.26795506477355957\n",
      "epoch: 3000, loss function: 0.266937255859375\n",
      "epoch: 3500, loss function: 0.2668956518173218\n",
      "epoch: 4000, loss function: 0.26689499616622925\n",
      "epoch: 4500, loss function: 0.26689499616622925\n",
      "epoch: 5000, loss function: 0.26689499616622925\n",
      "epoch: 5500, loss function: 0.26689499616622925\n",
      "epoch: 6000, loss function: 0.26689499616622925\n",
      "epoch: 6500, loss function: 0.26689499616622925\n",
      "epoch: 7000, loss function: 0.26689499616622925\n",
      "epoch: 7500, loss function: 0.26689499616622925\n",
      "training of for polynomial degree: 2 is done\n",
      "epoch: 0, loss function: 3.7959022521972656\n",
      "epoch: 500, loss function: 0.8967534303665161\n",
      "epoch: 1000, loss function: 0.31242600083351135\n",
      "epoch: 1500, loss function: 0.2568266987800598\n",
      "epoch: 2000, loss function: 0.25418269634246826\n",
      "epoch: 2500, loss function: 0.2539614140987396\n",
      "epoch: 3000, loss function: 0.2538420557975769\n",
      "epoch: 3500, loss function: 0.25371596217155457\n",
      "epoch: 4000, loss function: 0.2535722553730011\n",
      "epoch: 4500, loss function: 0.2534136474132538\n",
      "epoch: 5000, loss function: 0.25324660539627075\n",
      "epoch: 5500, loss function: 0.2530806362628937\n",
      "epoch: 6000, loss function: 0.2529275417327881\n",
      "epoch: 6500, loss function: 0.25279906392097473\n",
      "epoch: 7000, loss function: 0.252703458070755\n",
      "epoch: 7500, loss function: 0.2526424527168274\n",
      "training of for polynomial degree: 7 is done\n",
      "epoch: 0, loss function: 6.511320114135742\n",
      "epoch: 500, loss function: 0.5396998524665833\n",
      "epoch: 1000, loss function: 0.14409656822681427\n",
      "epoch: 1500, loss function: 0.09830448776483536\n",
      "epoch: 2000, loss function: 0.09147126972675323\n",
      "epoch: 2500, loss function: 0.08970166742801666\n",
      "epoch: 3000, loss function: 0.08851304650306702\n",
      "epoch: 3500, loss function: 0.08762616664171219\n",
      "epoch: 4000, loss function: 0.08701875805854797\n",
      "epoch: 4500, loss function: 0.08662755787372589\n",
      "epoch: 5000, loss function: 0.08638149499893188\n",
      "epoch: 5500, loss function: 0.0862303376197815\n",
      "epoch: 6000, loss function: 0.08614305406808853\n",
      "epoch: 6500, loss function: 0.08609538525342941\n",
      "epoch: 7000, loss function: 0.0860668271780014\n",
      "epoch: 7500, loss function: 0.08604446053504944\n",
      "training of for polynomial degree: 13 is done\n",
      "epoch: 0, loss function: 2.906907081604004\n",
      "epoch: 500, loss function: 0.4551333487033844\n",
      "epoch: 1000, loss function: 0.2558089792728424\n",
      "epoch: 1500, loss function: 0.23306399583816528\n",
      "epoch: 2000, loss function: 0.23172736167907715\n",
      "epoch: 2500, loss function: 0.2314838171005249\n",
      "epoch: 3000, loss function: 0.2312522828578949\n",
      "epoch: 3500, loss function: 0.23100176453590393\n",
      "epoch: 4000, loss function: 0.23072798550128937\n",
      "epoch: 4500, loss function: 0.23043693602085114\n",
      "epoch: 5000, loss function: 0.23014260828495026\n",
      "epoch: 5500, loss function: 0.22986380755901337\n",
      "epoch: 6000, loss function: 0.22962018847465515\n",
      "epoch: 6500, loss function: 0.22942735254764557\n",
      "epoch: 7000, loss function: 0.22929146885871887\n",
      "epoch: 7500, loss function: 0.22920769453048706\n",
      "training of for polynomial degree: 19 is done\n",
      "epoch: 0, loss function: 2.5150768756866455\n",
      "epoch: 500, loss function: 0.3705444931983948\n",
      "epoch: 1000, loss function: 0.15486036241054535\n",
      "epoch: 1500, loss function: 0.12566961348056793\n",
      "epoch: 2000, loss function: 0.12168920040130615\n",
      "epoch: 2500, loss function: 0.12053751945495605\n",
      "epoch: 3000, loss function: 0.12002166360616684\n",
      "epoch: 3500, loss function: 0.11963408440351486\n",
      "epoch: 4000, loss function: 0.11924533545970917\n",
      "epoch: 4500, loss function: 0.11883392930030823\n",
      "epoch: 5000, loss function: 0.11840233206748962\n",
      "epoch: 5500, loss function: 0.11795881390571594\n",
      "epoch: 6000, loss function: 0.11751142889261246\n",
      "epoch: 6500, loss function: 0.11706627905368805\n",
      "epoch: 7000, loss function: 0.11662966012954712\n",
      "epoch: 7500, loss function: 0.1162099540233612\n",
      "training of for polynomial degree: 25 is done\n"
     ]
    }
   ],
   "source": [
    "def Trainer(deg_poly, params):\n",
    "    \"\"\"\n",
    "    Performs a full training procedure where the complexity of the training model is determined by the degree of the polynomial.\n",
    "    \"\"\"\n",
    "\n",
    "    opt_state = optx.init(params)\n",
    "    n_epochs = 8000 #number of training epochs \n",
    "    for e in range(n_epochs):\n",
    "        loss_val, grad = loss_grad_fn(params, x_train, y_train)\n",
    "        updates, opt_state = optx.update(grad, opt_state)\n",
    "        params = optax.apply_updates(params, updates)\n",
    "        if e % 500 == 0:\n",
    "            print(f\"epoch: {e}, loss function: {loss_val}\")\n",
    "            \n",
    "    # compute training and testing errors\n",
    "    \n",
    "    tr_error = MSE(params, x_train, y_train)\n",
    "    te_error = MSE(params, x_test, y_test)\n",
    "    \n",
    "    return tr_error, te_error\n",
    "\n",
    "tr_errors = []\n",
    "te_errors = []\n",
    "\n",
    "deg_poly_list = np.linspace(2,25,5, dtype=int)\n",
    "nfuncs = []\n",
    "for deg_poly in deg_poly_list:\n",
    "    x_poly = generate_poly(deg_poly, x_mD)\n",
    "    # we now select subset of these poly features \n",
    "    indices = np.random.randint(0, x_poly.shape[1], deg_poly)\n",
    "    x_poly = x_poly[:, indices]\n",
    "    scaler = preprocessing.StandardScaler().fit(x_poly)\n",
    "    x_poly = scaler.transform(x_poly)\n",
    "    x_train, x_test, y_train, y_test = train_test_split(x_poly, y, test_size=0.33, random_state=42)\n",
    "    nfuncs.append(x_poly.shape[1])\n",
    "    model = Regression(x_poly.shape[1])\n",
    "    params = model.init(jax.random.PRNGKey(0), x_test)\n",
    "    tr_err, te_err = Trainer(deg_poly, params)\n",
    "    tr_errors.append(tr_err)\n",
    "    te_errors.append(te_err)\n",
    "    print(f\"training of for polynomial degree: {deg_poly} is done\")\n"
   ]
  },
  {
   "cell_type": "code",
   "execution_count": 84,
   "id": "a506eb54-3089-4511-99a5-c4b2dccc5c6f",
   "metadata": {},
   "outputs": [
    {
     "data": {
      "image/png": "[encoded data removed]",
      "text/plain": [
       "<Figure size 432x288 with 1 Axes>"
      ]
     },
     "metadata": {
      "needs_background": "light"
     },
     "output_type": "display_data"
    }
   ],
   "source": [
    "# plotting both errors \n",
    "plt.plot(nfuncs, tr_errors, marker=\"o\", color='r', label=\"training error\")\n",
    "plt.plot(nfuncs, te_errors, marker=\"o\", color='black', label=\"test error\")\n",
    "plt.axhline(y=1e-5, color='b', linestyle='--')\n",
    "plt.xlabel(\"x\")\n",
    "plt.ylabel(\"Errors\")\n",
    "plt.yscale(\"log\")\n",
    "plt.legend()\n",
    "plt.show()"
   ]
  },
  {
   "cell_type": "markdown",
   "id": "8bdad35f-236f-4dc6-bd45-752f8e94c8e1",
   "metadata": {},
   "source": [
    "# Extending the codes\n",
    "Here is a list of things you can do to improve this notebook, or your understanding thereof:\n",
    "\n",
    "- In the multi-dimensional case plot the projection of the approximate and true functions on each dimension. This would help get a visual understanding of how good the approximation is. "
   ]
  },
  {
   "cell_type": "code",
   "execution_count": null,
   "id": "5368b7a2-01d8-4077-9f3c-c5562bf862db",
   "metadata": {},
   "outputs": [],
   "source": []
  }
 ],
 "metadata": {
  "kernelspec": {
   "display_name": "Python 3",
   "language": "python",
   "name": "python3"
  },
  "language_info": {
   "codemirror_mode": {
    "name": "ipython",
    "version": 3
   },
   "file_extension": ".py",
   "mimetype": "text/x-python",
   "name": "python",
   "nbconvert_exporter": "python",
   "pygments_lexer": "ipython3",
   "version": "3.9.16"
  }
 },
 "nbformat": 4,
 "nbformat_minor": 5
}
